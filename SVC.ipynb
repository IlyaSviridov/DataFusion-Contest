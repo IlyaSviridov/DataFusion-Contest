{
 "cells": [
  {
   "cell_type": "code",
   "execution_count": 1,
   "metadata": {
    "id": "mzLWYmH44ZHR"
   },
   "outputs": [],
   "source": [
    "import pandas as pd\n",
    "import numpy as np\n",
    "import warnings\n",
    "warnings.filterwarnings('ignore')\n",
    "warnings.simplefilter('ignore')\n",
    "from tqdm import tqdm\n",
    "from sklearn.model_selection import KFold, cross_val_predict\n",
    "from scipy.sparse import hstack, csr_matrix\n",
    "import time\n",
    "from sklearn.feature_extraction.text import TfidfVectorizer\n",
    "from sklearn.metrics import f1_score\n",
    "from sklearn.svm import LinearSVC"
   ]
  },
  {
   "cell_type": "code",
   "execution_count": 2,
   "metadata": {
    "id": "DtQA1U0O4q_1"
   },
   "outputs": [],
   "source": [
    "path = 'data/'"
   ]
  },
  {
   "cell_type": "code",
   "execution_count": 3,
   "metadata": {
    "colab": {
     "base_uri": "https://localhost:8080/"
    },
    "id": "XS6r_sWO_QwC",
    "outputId": "05d1be87-7bcb-41d4-9a8f-b5d37db7d377"
   },
   "outputs": [
    {
     "name": "stdout",
     "output_type": "stream",
     "text": [
      "CPU times: user 3.62 s, sys: 1.02 s, total: 4.64 s\n",
      "Wall time: 2.94 s\n"
     ]
    }
   ],
   "source": [
    "%%time\n",
    "\n",
    "train_unique = pd.read_parquet(path+'train_unique.parquet')\n",
    "receipt_words_total = pd.read_parquet(path+'receipt_words_total.parquet')"
   ]
  },
  {
   "cell_type": "code",
   "execution_count": 4,
   "metadata": {
    "id": "drAF_RB0lb7x"
   },
   "outputs": [],
   "source": [
    "mask = (receipt_words_total['count_y'] > 100) & (receipt_words_total['perc_xy'] < 0.999)\n",
    "receipt_words_total_new = receipt_words_total[mask]\n",
    "\n",
    "df_dict_50words = receipt_words_total_new.groupby(['word_x'])['word_y'].apply(lambda x: list(x[:150]))\n",
    "dict_50words = dict(df_dict_50words)"
   ]
  },
  {
   "cell_type": "markdown",
   "metadata": {},
   "source": [
    "В словаре dict_50words для каждого слова лежит лист \"близких\" к нему слов. "
   ]
  },
  {
   "cell_type": "code",
   "execution_count": 5,
   "metadata": {},
   "outputs": [
    {
     "data": {
      "text/plain": [
       "['sorrento',\n",
       " 'частичн',\n",
       " 'частич',\n",
       " 'выпеч',\n",
       " 'моцарелл',\n",
       " 'ит',\n",
       " 'gusto',\n",
       " 'замороз',\n",
       " 'моцар',\n",
       " 'си',\n",
       " 'импорт',\n",
       " 'пицц',\n",
       " 'ветчин',\n",
       " 'ч',\n",
       " 'мо',\n",
       " 'грамм',\n",
       " 'порц']"
      ]
     },
     "execution_count": 5,
     "metadata": {},
     "output_type": "execute_result"
    }
   ],
   "source": [
    "dict_50words['соррентин']"
   ]
  },
  {
   "cell_type": "code",
   "execution_count": 6,
   "metadata": {},
   "outputs": [],
   "source": [
    "def create_discr(s, top_=10):\n",
    "    arr = s.split()\n",
    "    arr_total = []\n",
    "    for s_i in arr:\n",
    "        arr_total += dict_50words.get(s_i, [])[:top_]\n",
    "    return ' '.join(np.unique(arr_total))"
   ]
  },
  {
   "cell_type": "markdown",
   "metadata": {},
   "source": [
    "Теперь для каждого товара сделаем \"ассоциативное описание\" из набор близких слов."
   ]
  },
  {
   "cell_type": "code",
   "execution_count": 10,
   "metadata": {},
   "outputs": [
    {
     "data": {
      "text/html": [
       "<div>\n",
       "<style scoped>\n",
       "    .dataframe tbody tr th:only-of-type {\n",
       "        vertical-align: middle;\n",
       "    }\n",
       "\n",
       "    .dataframe tbody tr th {\n",
       "        vertical-align: top;\n",
       "    }\n",
       "\n",
       "    .dataframe thead th {\n",
       "        text-align: right;\n",
       "    }\n",
       "</style>\n",
       "<table border=\"1\" class=\"dataframe\">\n",
       "  <thead>\n",
       "    <tr style=\"text-align: right;\">\n",
       "      <th></th>\n",
       "      <th>item_name</th>\n",
       "      <th>category_id</th>\n",
       "      <th>item_name_clean</th>\n",
       "    </tr>\n",
       "  </thead>\n",
       "  <tbody>\n",
       "    <tr>\n",
       "      <th>3382</th>\n",
       "      <td>0,5Л ПИВО ЧЕРНОВАР ТЁМН Ж/Б</td>\n",
       "      <td>0</td>\n",
       "      <td>литр пив черновар темн б</td>\n",
       "    </tr>\n",
       "    <tr>\n",
       "      <th>13814</th>\n",
       "      <td>Городская булочка в/с 0,2кг Сочихлеб(шт)</td>\n",
       "      <td>84</td>\n",
       "      <td>городск булочк кг сочихлеб штук</td>\n",
       "    </tr>\n",
       "    <tr>\n",
       "      <th>19022</th>\n",
       "      <td>Клей \"Супермомент\" (3г)</td>\n",
       "      <td>114</td>\n",
       "      <td>кле супермомент грамм</td>\n",
       "    </tr>\n",
       "    <tr>\n",
       "      <th>11962</th>\n",
       "      <td>Вафли с шоколадом 90/50/50</td>\n",
       "      <td>84</td>\n",
       "      <td>вафл шоколад</td>\n",
       "    </tr>\n",
       "    <tr>\n",
       "      <th>41028</th>\n",
       "      <td>ФЛОМАСТЕРЫ ФЛОМАСТЕРЫ 12ЦВ BRUNOVISCONTI HAPPY...</td>\n",
       "      <td>31</td>\n",
       "      <td>фломастер фломастер цв brunovisconti happycolor</td>\n",
       "    </tr>\n",
       "    <tr>\n",
       "      <th>28699</th>\n",
       "      <td>ПИРОЖКИ С КАРТОФЕЛЕМ</td>\n",
       "      <td>84</td>\n",
       "      <td>пирожок картофел</td>\n",
       "    </tr>\n",
       "    <tr>\n",
       "      <th>32577</th>\n",
       "      <td>РЕЗИНКА ПОДВЕС.ГЛУШ.01 задняя</td>\n",
       "      <td>4</td>\n",
       "      <td>резинк подвес глуш задн</td>\n",
       "    </tr>\n",
       "    <tr>\n",
       "      <th>30760</th>\n",
       "      <td>Пиво светлое Гёссер  алк.4,7% 0,45л ж/б</td>\n",
       "      <td>0</td>\n",
       "      <td>пив светл гессер алк процент литр б</td>\n",
       "    </tr>\n",
       "    <tr>\n",
       "      <th>32327</th>\n",
       "      <td>Пряник Солнечный 1кг апельсин Русские лакомства</td>\n",
       "      <td>84</td>\n",
       "      <td>пряник солнечн кг апельсин русск лакомств</td>\n",
       "    </tr>\n",
       "    <tr>\n",
       "      <th>6553</th>\n",
       "      <td>A19ADEJUW02-99 XS  Куртка для бега женская Wom...</td>\n",
       "      <td>62</td>\n",
       "      <td>a adejuw x куртк бег женск woman s running jac...</td>\n",
       "    </tr>\n",
       "  </tbody>\n",
       "</table>\n",
       "</div>"
      ],
      "text/plain": [
       "                                               item_name  category_id  \\\n",
       "3382                         0,5Л ПИВО ЧЕРНОВАР ТЁМН Ж/Б            0   \n",
       "13814           Городская булочка в/с 0,2кг Сочихлеб(шт)           84   \n",
       "19022                            Клей \"Супермомент\" (3г)          114   \n",
       "11962                         Вафли с шоколадом 90/50/50           84   \n",
       "41028  ФЛОМАСТЕРЫ ФЛОМАСТЕРЫ 12ЦВ BRUNOVISCONTI HAPPY...           31   \n",
       "28699                               ПИРОЖКИ С КАРТОФЕЛЕМ           84   \n",
       "32577                      РЕЗИНКА ПОДВЕС.ГЛУШ.01 задняя            4   \n",
       "30760            Пиво светлое Гёссер  алк.4,7% 0,45л ж/б            0   \n",
       "32327    Пряник Солнечный 1кг апельсин Русские лакомства           84   \n",
       "6553   A19ADEJUW02-99 XS  Куртка для бега женская Wom...           62   \n",
       "\n",
       "                                         item_name_clean  \n",
       "3382                            литр пив черновар темн б  \n",
       "13814                    городск булочк кг сочихлеб штук  \n",
       "19022                              кле супермомент грамм  \n",
       "11962                                       вафл шоколад  \n",
       "41028    фломастер фломастер цв brunovisconti happycolor  \n",
       "28699                                   пирожок картофел  \n",
       "32577                            резинк подвес глуш задн  \n",
       "30760                пив светл гессер алк процент литр б  \n",
       "32327          пряник солнечн кг апельсин русск лакомств  \n",
       "6553   a adejuw x куртк бег женск woman s running jac...  "
      ]
     },
     "execution_count": 10,
     "metadata": {},
     "output_type": "execute_result"
    }
   ],
   "source": [
    "train_unique.sample(10)"
   ]
  },
  {
   "cell_type": "code",
   "execution_count": 11,
   "metadata": {},
   "outputs": [
    {
     "data": {
      "text/plain": [
       "'draught fitnes tr zat алкоторг бочк бэт велкопоповицкийкозел лаймонфреш лаошан оболочкойвсян оттингер пастерилиз пив сек сероглазок сихот тда темн хамовн хеллс царингер чех шварцбир'"
      ]
     },
     "execution_count": 11,
     "metadata": {},
     "output_type": "execute_result"
    }
   ],
   "source": [
    "s = 'литр пив черновар темн б'\n",
    "create_discr(s, 5)"
   ]
  },
  {
   "cell_type": "markdown",
   "metadata": {},
   "source": [
    "На деле полезнее брать не 5, а 65 ближайших слов для каждого слова из названия."
   ]
  },
  {
   "cell_type": "code",
   "execution_count": 12,
   "metadata": {},
   "outputs": [],
   "source": [
    "train_unique['random_words'] = train_unique['item_name_clean'].apply(lambda s: create_discr(s, top_=65))\n",
    "train_unique['random_words'] = train_unique['random_words'].fillna('')"
   ]
  },
  {
   "cell_type": "code",
   "execution_count": 13,
   "metadata": {
    "id": "0YrjgbC82Utb"
   },
   "outputs": [],
   "source": [
    "N_JOBS = 8\n",
    "y = train_unique['category_id']\n",
    "y_unique = np.unique(y)\n",
    "folds = KFold(8, shuffle=True, random_state=0)"
   ]
  },
  {
   "cell_type": "code",
   "execution_count": 14,
   "metadata": {
    "colab": {
     "base_uri": "https://localhost:8080/"
    },
    "id": "vdZxWe-zW-7y",
    "outputId": "e5b4d821-dcb6-4567-8895-a5032249a2c5"
   },
   "outputs": [
    {
     "name": "stdout",
     "output_type": "stream",
     "text": [
      "CPU times: user 42.6 s, sys: 1.37 s, total: 43.9 s\n",
      "Wall time: 44.1 s\n"
     ]
    }
   ],
   "source": [
    "%%time\n",
    "\n",
    "tfidf1 = TfidfVectorizer(max_features=60000, ngram_range=(1, 1))\n",
    "tfidf2 = TfidfVectorizer(max_features=60000, ngram_range=(1, 2))\n",
    "tfidf3 = TfidfVectorizer(max_features=75000, ngram_range=(3, 5), analyzer=\"char_wb\")\n",
    "\n",
    "X_name = tfidf1.fit_transform(train_unique['item_name'])\n",
    "X_random = tfidf2.fit_transform(train_unique['random_words'])\n",
    "X_char = tfidf3.fit_transform(train_unique['item_name'])"
   ]
  },
  {
   "cell_type": "code",
   "execution_count": 15,
   "metadata": {
    "id": "iBJProNzHXbO"
   },
   "outputs": [],
   "source": [
    "X = csr_matrix(hstack([X_name, X_random, X_char]))"
   ]
  },
  {
   "cell_type": "code",
   "execution_count": 17,
   "metadata": {},
   "outputs": [
    {
     "name": "stdout",
     "output_type": "stream",
     "text": [
      "0.8591\n",
      "CPU times: user 210 ms, sys: 557 ms, total: 767 ms\n",
      "Wall time: 5min 2s\n"
     ]
    }
   ],
   "source": [
    "%%time\n",
    "\n",
    "clf = LinearSVC(random_state=1, C=0.4)\n",
    "predicts = cross_val_predict(clf, X, y, cv=folds, n_jobs=N_JOBS, method='predict')\n",
    "score = f1_score(y, predicts, average='weighted')\n",
    "print(f'{score:.4f}')"
   ]
  },
  {
   "cell_type": "markdown",
   "metadata": {},
   "source": [
    "На lb получается примерно 0.86. С помощью доразметки можно еще немного поднять."
   ]
  }
 ],
 "metadata": {
  "colab": {
   "collapsed_sections": [],
   "machine_shape": "hm",
   "name": "SVC_8.ipynb",
   "provenance": []
  },
  "kernelspec": {
   "display_name": "Python 3",
   "language": "python",
   "name": "python3"
  },
  "language_info": {
   "codemirror_mode": {
    "name": "ipython",
    "version": 3
   },
   "file_extension": ".py",
   "mimetype": "text/x-python",
   "name": "python",
   "nbconvert_exporter": "python",
   "pygments_lexer": "ipython3",
   "version": "3.7.5"
  }
 },
 "nbformat": 4,
 "nbformat_minor": 1
}
